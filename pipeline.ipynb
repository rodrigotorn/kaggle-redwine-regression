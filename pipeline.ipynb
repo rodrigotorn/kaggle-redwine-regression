{
 "cells": [
  {
   "cell_type": "markdown",
   "id": "52f39489",
   "metadata": {},
   "source": [
    "## Kaggle - Red Wine Quality Regression\n",
    "\n",
    "This notebook contains the regression pipeline for the Red Wine Quality Kaggle dataset. This file is a python module that can be opened as a notebook using jupytext.\n",
    "\n",
    "1. [Business/Data Understanding](#1.-Business/Data-Understanding)\n",
    "2. Exploratory Data Analysis\n",
    "3. [Data Preparation](#3.-Data-Preparation)\n",
    "4. Modeling\n",
    "5. Evaluation\n",
    "\n",
    "[References](#References)"
   ]
  },
  {
   "cell_type": "code",
   "execution_count": null,
   "id": "2ad3fae2",
   "metadata": {},
   "outputs": [],
   "source": [
    "from pandas import read_csv\n",
    "from sklearn.model_selection import train_test_split"
   ]
  },
  {
   "cell_type": "markdown",
   "id": "e5ec0a9e",
   "metadata": {},
   "source": [
    "### 1. Business/Data Understanding\n",
    "\n",
    "Wine quality refers to the factors that go into producing a wine, as well as the indicators or characteristics that tell you if the wine is of high quality.\n",
    "\n",
    "When you know what influences and signifies wine quality, you’ll be in a better position to make good purchases. You’ll also begin to recognize your preferences and how your favorite wines can change with each harvest. Your appreciation for wines will deepen once you’re familiar with wine quality levels and how wines vary in taste from region to region.\n",
    "\n",
    "Some wines are higher-quality than others due to the factors described below. From climate to viticulture to winemaking, a myriad of factors make some wines exceptional and others run-of-the-mill."
   ]
  },
  {
   "cell_type": "code",
   "execution_count": null,
   "id": "f7a4a80c",
   "metadata": {},
   "outputs": [],
   "source": []
  },
  {
   "cell_type": "markdown",
   "id": "f238f2be",
   "metadata": {},
   "source": [
    "### 3. Data Preparation\n",
    "\n",
    "The original dataset is divided into train and validation datasets. The train dataset can be divided again into train and test datasets, other possible aproach is to apply Cross Validation."
   ]
  },
  {
   "cell_type": "code",
   "execution_count": null,
   "id": "af169977",
   "metadata": {},
   "outputs": [],
   "source": [
    "raw_df = read_csv('data/winequality-red.csv', header=0)\n",
    "train_df, validation_df = train_test_split(\n",
    "  raw_df,\n",
    "  test_size=0.2,\n",
    "  random_state=3\n",
    ")\n",
    "\n",
    "train_df.to_csv('data/train.csv', header=True, index=True)\n",
    "validation_df.to_csv('data/validation.csv', header=True, index=True)"
   ]
  },
  {
   "cell_type": "markdown",
   "id": "d4c7df44",
   "metadata": {},
   "source": [
    "### References\n",
    "\n",
    "[1] [Wine Quality Introduction](https://www.jjbuckley.com/wine-knowledge/blog/the-4-factors-and-4-indicators-of-wine-quality/1009) "
   ]
  }
 ],
 "metadata": {
  "jupytext": {
   "encoding": "# -*- coding: utf-8 -*-"
  },
  "kernelspec": {
   "display_name": "Python 3 (ipykernel)",
   "language": "python",
   "name": "python3"
  },
  "language_info": {
   "codemirror_mode": {
    "name": "ipython",
    "version": 3
   },
   "file_extension": ".py",
   "mimetype": "text/x-python",
   "name": "python",
   "nbconvert_exporter": "python",
   "pygments_lexer": "ipython3",
   "version": "3.8.10"
  }
 },
 "nbformat": 4,
 "nbformat_minor": 5
}
