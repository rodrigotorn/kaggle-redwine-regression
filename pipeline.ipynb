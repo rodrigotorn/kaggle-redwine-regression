{
 "cells": [
  {
   "cell_type": "markdown",
   "id": "52f39489",
   "metadata": {
    "id": "52f39489"
   },
   "source": [
    "## Kaggle - Red Wine Quality Regression\n",
    "\n",
    "This notebook contains the regression pipeline for the Red Wine Quality Kaggle dataset. This file is a python module that can be opened as a notebook using jupytext.\n",
    "\n",
    "1. [Business/Data Understanding](#1.-Business/Data-Understanding)\n",
    "2. [Exploratory Data Analysis](#2.-Exploratory-Data-Analysis)\n",
    "3. [Data Preparation](#3.-Data-Preparation)\n",
    "4. [Modeling](#4.-Modeling)\n",
    "5. Evaluation\n",
    "\n",
    "[References](#References)"
   ]
  },
  {
   "cell_type": "code",
   "execution_count": null,
   "id": "2ad3fae2",
   "metadata": {
    "id": "2ad3fae2"
   },
   "outputs": [],
   "source": [
    "import numpy as np\n",
    "import pandas as pd\n",
    "import seaborn as sns\n",
    "import matplotlib.pyplot as plt\n",
    "from sklearn.model_selection import train_test_split\n",
    "from sklearn.preprocessing import StandardScaler, MinMaxScaler\n",
    "from sklearn.neural_network import MLPRegressor\n",
    "from sklearn.model_selection import GridSearchCV\n",
    "from joblib import dump, load\n",
    "\n",
    "from google.colab import files"
   ]
  },
  {
   "cell_type": "markdown",
   "id": "e5ec0a9e",
   "metadata": {
    "id": "e5ec0a9e"
   },
   "source": [
    "### 1. Business/Data Understanding\n",
    "\n",
    "Wine quality refers to the factors that go into producing a wine, as well as the indicators or characteristics that tell you if the wine is of high quality.\n",
    "\n",
    "When you know what influences and signifies wine quality, you’ll be in a better position to make good purchases. You’ll also begin to recognize your preferences and how your favorite wines can change with each harvest. Your appreciation for wines will deepen once you’re familiar with wine quality levels and how wines vary in taste from region to region.\n",
    "\n",
    "Some wines are higher-quality than others due to the factors described below. From climate to viticulture to winemaking, a myriad of factors make some wines exceptional and others run-of-the-mill."
   ]
  },
  {
   "cell_type": "markdown",
   "id": "L0e6H1UCeCBy",
   "metadata": {
    "id": "L0e6H1UCeCBy"
   },
   "source": [
    "### 2. Exploratory Data Analysis\n",
    "\n",
    "The original dataset is divided into train and validation datasets. \n",
    "\n",
    "The exploration is applied to the train dataset, since the validation dataset is supposed to be unseen data. The basic aspects of the train data are shown bellow."
   ]
  },
  {
   "cell_type": "code",
   "execution_count": null,
   "id": "af169977",
   "metadata": {
    "id": "af169977"
   },
   "outputs": [],
   "source": [
    "raw_df = pd.read_csv('data/winequality-red.csv', header=0)\n",
    "train_df, validation_df = train_test_split(\n",
    "  raw_df,\n",
    "  test_size=0.2,\n",
    "  random_state=3\n",
    ")\n",
    "\n",
    "train_df.to_csv('data/train.csv', header=True, index=True)\n",
    "validation_df.to_csv('data/validation.csv', header=True, index=True)"
   ]
  },
  {
   "cell_type": "markdown",
   "id": "z0KUfQ0Lgr02",
   "metadata": {
    "id": "z0KUfQ0Lgr02"
   },
   "source": [
    "From the dataset info we can see that the data is really clean, there are no null values. The target variable, quality, is composed by integers, while the features are floats."
   ]
  },
  {
   "cell_type": "code",
   "execution_count": null,
   "id": "E6eU5u5RfeRK",
   "metadata": {
    "colab": {
     "base_uri": "https://localhost:8080/"
    },
    "id": "E6eU5u5RfeRK",
    "outputId": "edcb346b-5b59-4b3e-c56d-81f9140d7539"
   },
   "outputs": [],
   "source": [
    "train = pd.read_csv('train.csv', header=0, index_col=0)\n",
    "print(f'Dataset shape: {train.shape} \\n')\n",
    "print(train.info())"
   ]
  },
  {
   "cell_type": "markdown",
   "id": "9yAsJjZyhTzw",
   "metadata": {
    "id": "9yAsJjZyhTzw"
   },
   "source": [
    "Using the `describe()` method we can see the mean, standard deviation and the quartiles.\n",
    "\n",
    "It is also worth noting that the quality only has 6 different values."
   ]
  },
  {
   "cell_type": "code",
   "execution_count": null,
   "id": "0t_gzxmDhUJn",
   "metadata": {
    "colab": {
     "base_uri": "https://localhost:8080/",
     "height": 416
    },
    "id": "0t_gzxmDhUJn",
    "outputId": "99003b82-391a-4721-9543-c41513ca1fc1"
   },
   "outputs": [],
   "source": [
    "print(train['quality'].unique())\n",
    "train.describe()"
   ]
  },
  {
   "cell_type": "markdown",
   "id": "hBzZV6v5kYOc",
   "metadata": {
    "id": "hBzZV6v5kYOc"
   },
   "source": [
    "From the correlation plot, on the last row we can see that some features such as **sulphates** and **alcohol** are positive correlated to quality, while others like **volatile acidity** are negative correlated."
   ]
  },
  {
   "cell_type": "code",
   "execution_count": null,
   "id": "g761yFYmkYoz",
   "metadata": {
    "colab": {
     "base_uri": "https://localhost:8080/",
     "height": 638
    },
    "id": "g761yFYmkYoz",
    "outputId": "fb885672-d608-46e0-abc8-5391f00bbcb4"
   },
   "outputs": [],
   "source": [
    "corr = train.corr()\n",
    "mask = np.triu(np.ones_like(corr, dtype=bool))\n",
    "f, ax = plt.subplots(figsize=(11, 9))\n",
    "cmap = sns.diverging_palette(230, 20, as_cmap=True)\n",
    "sns.heatmap(corr, mask=mask, cmap=cmap, vmax=.3, center=0,\n",
    "            square=True, linewidths=.5, cbar_kws={\"shrink\": .5})"
   ]
  },
  {
   "cell_type": "markdown",
   "id": "1OyxFfCVliL6",
   "metadata": {
    "id": "1OyxFfCVliL6"
   },
   "source": [
    "From the violin plots we can see which features contain outliers and how is the distribution of each feature"
   ]
  },
  {
   "cell_type": "code",
   "execution_count": null,
   "id": "YjgSWgRyliaZ",
   "metadata": {
    "colab": {
     "base_uri": "https://localhost:8080/",
     "height": 1000
    },
    "id": "YjgSWgRyliaZ",
    "outputId": "293b2cc5-cf80-4619-d55a-10b7c0e6be04"
   },
   "outputs": [],
   "source": [
    "fig, axes = plt.subplots(12, 1, figsize=(15, 20))\n",
    "for count, col in enumerate(train.columns):\n",
    "  sns.violinplot(ax=axes[count], data=train[col], orient=\"h\")\n",
    "  axes[count].set_title(col)"
   ]
  },
  {
   "cell_type": "markdown",
   "id": "f238f2be",
   "metadata": {
    "id": "f238f2be"
   },
   "source": [
    "### 3. Data Preparation\n",
    "\n",
    "Since the data is already very clean, it is only necessary to scale the features. We are going to use 2 different scalers and compare the results obtained."
   ]
  },
  {
   "cell_type": "code",
   "execution_count": null,
   "id": "H7_6yqDJvKwz",
   "metadata": {
    "id": "H7_6yqDJvKwz"
   },
   "outputs": [],
   "source": [
    "train_x = train.iloc[:,:-1]\n",
    "train_y = train.iloc[:,-1:]\n",
    "\n",
    "standard_scaler_x = StandardScaler().fit(train_x)\n",
    "standard_train_x = standard_scaler_x.transform(train_x)\n",
    "standard_scaler_y = StandardScaler().fit(train_y)\n",
    "standard_train_y = standard_scaler_y.transform(train_y)\n",
    "\n",
    "normal_scaler_x = MinMaxScaler().fit(train_x)\n",
    "normal_train_x = normal_scaler_x.transform(train_x)\n",
    "normal_scaler_y = MinMaxScaler().fit(train_y)\n",
    "normal_train_y = normal_scaler_y.transform(train_y)"
   ]
  },
  {
   "cell_type": "markdown",
   "id": "bHUePLO70vPb",
   "metadata": {
    "id": "bHUePLO70vPb"
   },
   "source": [
    "### 4. Modeling\n",
    "\n",
    "Evaluate the performance from neural networks using 2 preprocessing scalers."
   ]
  },
  {
   "cell_type": "code",
   "execution_count": null,
   "id": "BAHEKcMu0vvk",
   "metadata": {
    "id": "BAHEKcMu0vvk"
   },
   "outputs": [],
   "source": [
    "params = {\n",
    "    'hidden_layer_sizes': [(i, ) for i in range(1, 22, 2)],\n",
    "    'activation': ('identity', 'logistic', 'tanh', 'relu'),\n",
    "    'batch_size': [50, 100, 200],\n",
    "    'max_iter': [200, 400, 800],\n",
    "}\n",
    "\n",
    "base_mlp = MLPRegressor(random_state=3)\n",
    "mlp = GridSearchCV(\n",
    "    base_mlp,\n",
    "    params,\n",
    "    scoring='neg_root_mean_squared_error',\n",
    "    n_jobs=-1,\n",
    "    cv=5,\n",
    "    return_train_score=True,\n",
    ")\n",
    "mlp.fit(standard_train_x, standard_train_y)\n",
    "\n",
    "results = pd.DataFrame(mlp.cv_results_)\n",
    "results = results[['param_hidden_layer_sizes', 'param_activation',\n",
    "  'param_batch_size', 'param_max_iter','mean_test_score', 'rank_test_score',\n",
    "  'mean_train_score']]\n",
    "results.to_csv('mlp_standard_results.csv', index=False)\n",
    "files.download('mlp_standard_results.csv')\n",
    "\n",
    "dump(mlp, 'mlp_standard.joblib')\n",
    "files.download('mlp_standard.joblib')"
   ]
  },
  {
   "cell_type": "code",
   "execution_count": null,
   "id": "pr3APOej5mR2",
   "metadata": {
    "id": "pr3APOej5mR2"
   },
   "outputs": [],
   "source": [
    "mlp.fit(normal_train_x, normal_train_y)\n",
    "\n",
    "results = pd.DataFrame(mlp.cv_results_)\n",
    "results = results[['param_hidden_layer_sizes', 'param_activation',\n",
    "  'param_batch_size', 'param_max_iter','mean_test_score', 'rank_test_score',\n",
    "  'mean_train_score']]\n",
    "results.to_csv('mlp_minmax_results.csv', index=False)\n",
    "files.download('mlp_minmax_results.csv')\n",
    "\n",
    "dump(mlp, 'mlp_minmax.joblib')\n",
    "files.download('mlp_minmax.joblib')"
   ]
  },
  {
   "cell_type": "code",
   "execution_count": null,
   "id": "a0f039c4-e1e7-4766-ac2f-c2ead4810002",
   "metadata": {},
   "outputs": [],
   "source": []
  },
  {
   "cell_type": "markdown",
   "id": "d4c7df44",
   "metadata": {
    "id": "d4c7df44"
   },
   "source": [
    "### References\n",
    "\n",
    "[1] [Wine Quality Introduction](https://www.jjbuckley.com/wine-knowledge/blog/the-4-factors-and-4-indicators-of-wine-quality/1009) "
   ]
  }
 ],
 "metadata": {
  "colab": {
   "collapsed_sections": [],
   "name": "pipeline.ipynb",
   "provenance": []
  },
  "jupytext": {
   "encoding": "# -*- coding: utf-8 -*-"
  },
  "kernelspec": {
   "display_name": "Python 3 (ipykernel)",
   "language": "python",
   "name": "python3"
  },
  "language_info": {
   "codemirror_mode": {
    "name": "ipython",
    "version": 3
   },
   "file_extension": ".py",
   "mimetype": "text/x-python",
   "name": "python",
   "nbconvert_exporter": "python",
   "pygments_lexer": "ipython3",
   "version": "3.8.10"
  }
 },
 "nbformat": 4,
 "nbformat_minor": 5
}
